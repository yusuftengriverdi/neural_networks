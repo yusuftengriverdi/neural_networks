{
 "cells": [
  {
   "cell_type": "markdown",
   "metadata": {},
   "source": [
    "1) USE Saved ConvNet for Distinguish Normal & Covid19 ChestXray Dataset..."
   ]
  },
  {
   "cell_type": "code",
   "execution_count": 4,
   "metadata": {},
   "outputs": [],
   "source": [
    "# import libraries in usage\n",
    "\n",
    "import os\n",
    "import cv2\n",
    "import numpy as np\n",
    "from tqdm import tqdm\n",
    "import torch\n",
    "import torch.nn as nn\n",
    "import torch.nn.functional as F\n",
    "import torch.optim as optim\n",
    "import time\n",
    "import matplotlib.pyplot as plt\n",
    "from matplotlib import style\n",
    "from collections import OrderedDict\n",
    "import numpy as np\n",
    "import nibabel as nib\n",
    "from torch.utils.data import DataLoader , TensorDataset, SubsetRandomSampler, random_split"
   ]
  },
  {
   "cell_type": "code",
   "execution_count": 2,
   "metadata": {},
   "outputs": [
    {
     "name": "stdout",
     "output_type": "stream",
     "text": [
      "running on cuda:0.\n"
     ]
    }
   ],
   "source": [
    "\n",
    "if torch.cuda.is_available():\n",
    "    device = torch.device(\"cuda:0\")\n",
    "    print(\"running on \" + str(device) + \".\")\n",
    "else:\n",
    "    device = torch.device(\"cpu\")\n",
    "    print(\"running on\" + str(device) + \".\")\n",
    "# torch.cuda.device_count()\n"
   ]
  },
  {
   "cell_type": "code",
   "execution_count": 3,
   "metadata": {},
   "outputs": [],
   "source": [
    "#import ready model\n",
    "\n",
    "import convNet"
   ]
  },
  {
   "cell_type": "code",
   "execution_count": null,
   "metadata": {},
   "outputs": [],
   "source": [
    "# load pre-saved model\n",
    "\"\"\"\n",
    "opt = optim.Adam(cnn.parameters(), lr=0.001)\n",
    "\n",
    "checkpoint = torch.load('D:/projects/Neural_Networks/coursera_v3/coursera/model/model')\n",
    "cnn.load_state_dict(checkpoint['model_state_dict'])\n",
    "opt.load_state_dict(checkpoint['optimizer_state_dict'])\"\"\""
   ]
  },
  {
   "cell_type": "code",
   "execution_count": null,
   "metadata": {},
   "outputs": [],
   "source": [
    "\"\"\"print(checkpoint['model_state_dict'])\"\"\""
   ]
  },
  {
   "cell_type": "code",
   "execution_count": 5,
   "metadata": {},
   "outputs": [],
   "source": [
    "#preparing dataset as done in Cats & Dogs Classifying\n",
    "\n",
    "REBUILD_DATA =False # set to true to one once, then back to false unless you want to change something in your\n",
    "\n",
    "\n",
    "class prepare_data():\n",
    "    INFCTD = 'D:\\\\projects\\\\Neural_Networks\\\\research\\\\datasets\\\\576013_1042828_bundle_archive\\\\COVID-19 Radiography Database\\\\COVID-19'\n",
    "    NORMAL = 'D:\\\\projects\\\\Neural_Networks\\\\research\\\\datasets\\\\576013_1042828_bundle_archive\\\\COVID-19 Radiography Database\\\\NORMAL'\n",
    "    LABELS = {INFCTD: 1, NORMAL: 0}\n",
    "    \n",
    "    infctdcount= 0\n",
    "    normalcount= 0\n",
    "    \n",
    "    IMG_SIZE = 64 # if needed due to memory limit, change image size. if not, put the original image size.\n",
    "\n",
    "    data = []\n",
    "    \n",
    "    def make_data(self):\n",
    "        for label in self.LABELS:\n",
    "            print(label)\n",
    "            for f in tqdm(os.listdir(label)):\n",
    "                if \"jpg\" or \"jpeg\" or \"png\" in f:\n",
    "                    try:\n",
    "                        path = os.path.join(label, f)\n",
    "                        img = cv2.imread(path, cv2.IMREAD_GRAYSCALE) #for now let's make it gray scale\n",
    "                        img = cv2.resize(img, (self.IMG_SIZE, self.IMG_SIZE))\n",
    "                        self.data.append([np.array(img), np.eye(2)[\n",
    "                            self.LABELS[label]]])  # makes one_hot vector\n",
    "                        \n",
    "                        if label == self.INFCTD:\n",
    "                            self.infctdcount += 1\n",
    "                        elif label == self.NORMAL:\n",
    "                            self.normalcount += 1\n",
    "                        else:\n",
    "                            print(\"fck off\")\n",
    "                    except Exception as e:\n",
    "                        print(label, f, str(e))\n",
    "                        pass\n",
    "                        \n",
    "        np.random.shuffle(self.data) # shuffling gets better result.\n",
    "        np.save(\"D:\\\\projects\\\\Neural_Networks\\\\coursera_v3\\\\coursera\\\\data\\\\data_two_label\", self.data)\n",
    "\n",
    "\n"
   ]
  },
  {
   "cell_type": "code",
   "execution_count": 6,
   "metadata": {},
   "outputs": [],
   "source": [
    "# run above\n",
    "\n",
    "if REBUILD_DATA:\n",
    "    prep =prepare_data()\n",
    "    prep.make_data()\n",
    "    print('INFECTED PATIENTS:', prep.infctdcount)\n",
    "    print('HEALTHY PATIENTS', prep.normalcount)"
   ]
  },
  {
   "cell_type": "code",
   "execution_count": 7,
   "metadata": {},
   "outputs": [
    {
     "name": "stdout",
     "output_type": "stream",
     "text": [
      "1560\n"
     ]
    }
   ],
   "source": [
    "data = np.load(\"D:\\\\projects\\\\Neural_Networks\\\\coursera_v3\\\\coursera\\\\data\\\\data_two_label.npy\", allow_pickle=True)\n",
    "print(len(data))   "
   ]
  },
  {
   "cell_type": "code",
   "execution_count": 8,
   "metadata": {},
   "outputs": [],
   "source": [
    "X = torch.Tensor([i[0] for i in data]) # create tensor for images"
   ]
  },
  {
   "cell_type": "code",
   "execution_count": 9,
   "metadata": {},
   "outputs": [],
   "source": [
    "X = X / 255 # scale them to be between 0 and 1"
   ]
  },
  {
   "cell_type": "code",
   "execution_count": 10,
   "metadata": {},
   "outputs": [
    {
     "data": {
      "text/plain": [
       "torch.Size([1560, 64, 64])"
      ]
     },
     "execution_count": 10,
     "metadata": {},
     "output_type": "execute_result"
    }
   ],
   "source": [
    "X.shape"
   ]
  },
  {
   "cell_type": "code",
   "execution_count": 11,
   "metadata": {},
   "outputs": [],
   "source": [
    "y = torch.Tensor([i[1] for i in data]) #observations / real labels / hot_vectors we created above"
   ]
  },
  {
   "cell_type": "code",
   "execution_count": 12,
   "metadata": {},
   "outputs": [
    {
     "data": {
      "text/plain": [
       "tensor([[1., 0.],\n",
       "        [1., 0.],\n",
       "        [0., 1.],\n",
       "        ...,\n",
       "        [0., 1.],\n",
       "        [1., 0.],\n",
       "        [1., 0.]])"
      ]
     },
     "execution_count": 12,
     "metadata": {},
     "output_type": "execute_result"
    }
   ],
   "source": [
    "y"
   ]
  },
  {
   "cell_type": "code",
   "execution_count": 13,
   "metadata": {},
   "outputs": [
    {
     "data": {
      "text/plain": [
       "torch.Size([1560, 2])"
      ]
     },
     "execution_count": 13,
     "metadata": {},
     "output_type": "execute_result"
    }
   ],
   "source": [
    "y.shape"
   ]
  },
  {
   "cell_type": "code",
   "execution_count": 14,
   "metadata": {},
   "outputs": [],
   "source": [
    "# now let's create datasets:\n",
    "\n",
    "dataset = TensorDataset(X , y)\n",
    "\n",
    "valid_set = torch.utils.data.Subset(dataset, (1,200))"
   ]
  },
  {
   "cell_type": "code",
   "execution_count": 15,
   "metadata": {},
   "outputs": [],
   "source": [
    ">>> a = random_split(range(10), [3, 7])"
   ]
  },
  {
   "cell_type": "code",
   "execution_count": 16,
   "metadata": {},
   "outputs": [
    {
     "name": "stdout",
     "output_type": "stream",
     "text": [
      "[<torch.utils.data.dataset.Subset object at 0x000002721256E898>, <torch.utils.data.dataset.Subset object at 0x000002721256E5C0>]\n"
     ]
    }
   ],
   "source": [
    "print(random_split(range(10), [3, 7]))"
   ]
  },
  {
   "cell_type": "code",
   "execution_count": 17,
   "metadata": {},
   "outputs": [
    {
     "name": "stdout",
     "output_type": "stream",
     "text": [
      "4\n"
     ]
    }
   ],
   "source": [
    "print(a[1][5])"
   ]
  },
  {
   "cell_type": "code",
   "execution_count": 18,
   "metadata": {},
   "outputs": [
    {
     "name": "stdout",
     "output_type": "stream",
     "text": [
      "[<torch.utils.data.dataset.Subset object at 0x000002721256ECC0>, <torch.utils.data.dataset.Subset object at 0x000002721256E710>, <torch.utils.data.dataset.Subset object at 0x000002721256E748>]\n"
     ]
    }
   ],
   "source": [
    "print(random_split(dataset, [100, 300, 1160]))"
   ]
  },
  {
   "cell_type": "code",
   "execution_count": 19,
   "metadata": {},
   "outputs": [],
   "source": [
    "test_dt, valid_dt, train_dt = random_split(dataset, [100, 300, 1160]) # always choose random :)."
   ]
  },
  {
   "cell_type": "code",
   "execution_count": 20,
   "metadata": {},
   "outputs": [],
   "source": [
    "sampler = SubsetRandomSampler(list(range(1160)))  # for now, let's just load only training data set."
   ]
  },
  {
   "cell_type": "code",
   "execution_count": 21,
   "metadata": {},
   "outputs": [],
   "source": [
    "BATCH_SIZE = 75"
   ]
  },
  {
   "cell_type": "code",
   "execution_count": 22,
   "metadata": {},
   "outputs": [],
   "source": [
    "# let's create torch data loaders.\n",
    "\n",
    "train = DataLoader(train_dt , batch_size = BATCH_SIZE, sampler= sampler)\n",
    "\n",
    "valid = DataLoader(valid_dt , batch_size = BATCH_SIZE)\n",
    "\n",
    "test = DataLoader(valid_dt , batch_size = 100) # we want them only for test, that's why one batch."
   ]
  },
  {
   "cell_type": "code",
   "execution_count": 23,
   "metadata": {},
   "outputs": [],
   "source": [
    "#neural network with dropout\n",
    "\n",
    "class Cnn(nn.Module):\n",
    "    def __init__(self):\n",
    "        super().__init__()\n",
    "        self.conv1 = nn.Conv2d(1, 32, 5)\n",
    "        # self.bn1 = nn.BatchNorm2d(num_features=32, eps=1e-05, momentum=0.1, affine=True, track_running_stats=True)\n",
    "        self.conv2 = nn.Conv2d(32, 64, 5)\n",
    "        # self.bn2 = nn.BatchNorm2d(num_features=64, eps=1e-05, momentum=0.1, affine=True, track_running_stats=True)\n",
    "        self.conv3 = nn.Conv2d(64, 128, 5)\n",
    "\n",
    "        x = torch.randn(64,64).view(-1, 1, 64,64)\n",
    "        self._to_linear = None\n",
    "        self.convs(x)\n",
    "\n",
    "        self.fc1 = nn.Linear(self._to_linear, 512)\n",
    "        self.bn1 = nn.BatchNorm1d(num_features=512, eps=1e-05, momentum=0.1, affine=True, track_running_stats=True)\n",
    "        #print(\"5.1:\", x.shape)\n",
    "        self.fc2 = nn.Linear(512, 2)\n",
    "        #print(\"5.2:\", x.shape)\n",
    "        self.dropout = nn.AlphaDropout(p=0.3)\n",
    "\n",
    "    def convs(self, x):\n",
    "        x = F.max_pool2d(F.relu(self.conv1(x)), (2, 2))\n",
    "        #print(\"1:\", x.shape)\n",
    "        x = F.max_pool2d(F.relu(self.conv2(x)), (2, 2))\n",
    "        #print(\"2:\", x.shape)\n",
    "        x = F.max_pool2d(F.relu(self.conv3(x)), (2, 2))\n",
    "        #print(\"3:\", x.shape)\n",
    "\n",
    "\n",
    "        if self._to_linear is None:\n",
    "            self._to_linear = x[0].shape[0] * x[0].shape[1] * x[0].shape[2]\n",
    "            #print(x[0].shape[0] , x[0].shape[1] , x[0].shape[2])\n",
    "        return x\n",
    "\n",
    "        '''>>> # With Learnable Parameters\n",
    "        >>> m = nn.BatchNorm2d(100)\n",
    "        >>> # Without Learnable Parameters\n",
    "        >>> m = nn.BatchNorm2d(100, affine=False)\n",
    "        >>> input = torch.randn(20, 100, 35, 45)\n",
    "        >>> output = m(input)'''\n",
    "\n",
    "    def forward(self, x):\n",
    "        #print(\"0:\", x.shape)\n",
    "        x = self.convs(x)\n",
    "        x = x.view(-1, self._to_linear)\n",
    "        #print(\"4:\", x.shape)\n",
    "        x = F.relu(self.bn1(self.fc1(x)))\n",
    "        #print(\"5:\", x.shape)\n",
    "        x = self.fc2(x)\n",
    "        #print(\"6:\", x.shape)\n",
    "        x = self.dropout(x)\n",
    "        #print(\"7:\", x.shape)\n",
    "        return F.softmax(x, dim=1)"
   ]
  },
  {
   "cell_type": "code",
   "execution_count": 24,
   "metadata": {},
   "outputs": [],
   "source": [
    "net = Cnn().to(device)\n",
    "\n",
    "optimizer = optim.Adam(net.parameters(), lr=0.001)\n",
    "loss_function = nn.MSELoss()"
   ]
  },
  {
   "cell_type": "code",
   "execution_count": 25,
   "metadata": {},
   "outputs": [],
   "source": [
    "def fwd_pass(X, y, net, train_=False):\n",
    "    if train_:\n",
    "        net.zero_grad()\n",
    "    outputs = net(X.to(device))\n",
    "    matches = [torch.argmax(i) == torch.argmax(j) for i, j in zip(outputs, y)]\n",
    "    acc = matches.count(True) / len(matches)\n",
    "    loss = loss_function(outputs, y)\n",
    "\n",
    "    if train_:\n",
    "        loss.backward()\n",
    "        optimizer.step()\n",
    "\n",
    "    return acc, loss"
   ]
  },
  {
   "cell_type": "code",
   "execution_count": 26,
   "metadata": {},
   "outputs": [
    {
     "name": "stdout",
     "output_type": "stream",
     "text": [
      "1360   5\n"
     ]
    }
   ],
   "source": [
    "#train parameters\n",
    "\n",
    "EPOCHS = 100 # to get faster results, apply for small number once. then, INCREASE it!!!!!!!!!!!!!!!!!\n",
    "\n",
    "n= 1160 + 200\n",
    "\n",
    "it = int(1160/200)\n",
    "\n",
    "print(n, \" \", it)\n",
    "\n",
    "PT = \"D:\\\\projects\\\\Neural_Networks\\\\coursera_v3\\\\coursera\\\\model\\\\MODELv1.1.pt\""
   ]
  },
  {
   "cell_type": "code",
   "execution_count": 27,
   "metadata": {},
   "outputs": [],
   "source": [
    "MODEL_NAME = f\"model covid19.v1.1.-{time.asctime()}\"\n",
    "\n",
    "def Train(net):\n",
    "    with open(\"model.log\", \"a\") as f:\n",
    "        for epoch in tqdm(range(EPOCHS)):\n",
    "            for i in range(0, n, BATCH_SIZE):   \n",
    "                dt = next(iter(train))\n",
    "                batch_X = dt[0].view(-1, 1, 64, 64)\n",
    "                batch_y = dt[1]\n",
    "                batch_X, batch_y = batch_X.to(device), batch_y.to(device)\n",
    "\n",
    "                acc, loss = fwd_pass(batch_X, batch_y , net, train_=True)\n",
    "                \n",
    "                if i % it == 0:\n",
    "                    val_acc, val_loss = Test(size=100)\n",
    "                    f.write(\n",
    "                        f\"{MODEL_NAME},{round(time.time(), 3)},{round(float(acc), 2)},{round(float(loss), 4)},\"\n",
    "                        f\"{round(float(val_acc), 2)},{round(float(val_loss), 4)},{epoch}\\n\")\n",
    "                    torch.save({\n",
    "                        'dropout cnn model': MODEL_NAME,\n",
    "                        'epoch': epoch,\n",
    "                        'model_state_dict': net.state_dict(),\n",
    "                        'optimizer_state_dict': optimizer.state_dict()\n",
    "                    }, PT)"
   ]
  },
  {
   "cell_type": "code",
   "execution_count": 28,
   "metadata": {},
   "outputs": [],
   "source": [
    "def Test(size=32):\n",
    "    test_dt = next(iter(valid))\n",
    "    X, y = test_dt[0].view(-1, 1,64, 64).to(device), test_dt[1].to(device)\n",
    "    val_acc, val_loss = fwd_pass(X.view(-1, 1, 64,64), y, net)\n",
    "    return val_acc, val_loss"
   ]
  },
  {
   "cell_type": "code",
   "execution_count": 45,
   "metadata": {},
   "outputs": [],
   "source": [
    "def create_acc_loss_graph(model_name):\n",
    "    contents = open(\"../../coursera_v3/coursera/model.log\", \"r\").read().split(\"\\n\")\n",
    "\n",
    "    times = []\n",
    "    accuracies = []\n",
    "    losses = []\n",
    "\n",
    "    val_accs = []\n",
    "    val_losses = []\n",
    "\n",
    "    for c in contents:\n",
    "        if model_name in c:\n",
    "            name, timestamp, acc, loss, val_acc, val_loss, epoch = c.split(\",\")\n",
    "\n",
    "            times.append(float(timestamp))\n",
    "            accuracies.append(float(acc))\n",
    "            losses.append(float(loss))\n",
    "\n",
    "            val_accs.append(float(val_acc))\n",
    "            val_losses.append(float(val_loss))\n",
    "\n",
    "    fig = plt.figure()\n",
    "\n",
    "    ax1 = plt.subplot2grid((2, 1), (0, 0))\n",
    "    ax2 = plt.subplot2grid((2, 1), (1, 0), sharex=ax1)\n",
    "\n",
    "    ax1.plot(times, accuracies, label=\"acc\")\n",
    "    ax1.plot(times, val_accs, label=\"val_acc\")\n",
    "    ax1.legend(loc=2)\n",
    "    ax2.plot(times, losses, label=\"loss\")\n",
    "    ax2.plot(times, val_losses, label=\"val_loss\")\n",
    "    ax2.legend(loc=2)\n",
    "    plt.show()"
   ]
  },
  {
   "cell_type": "code",
   "execution_count": 46,
   "metadata": {},
   "outputs": [
    {
     "name": "stdout",
     "output_type": "stream",
     "text": [
      "model covid19.v1.1.-Wed Jul 29 16:47:57 2020\n"
     ]
    },
    {
     "data": {
      "image/png": "[encoded data removed]",
      "text/plain": [
       "<Figure size 432x288 with 2 Axes>"
      ]
     },
     "metadata": {},
     "output_type": "display_data"
    }
   ],
   "source": [
    "style.use(\"ggplot\")\n",
    "print(MODEL_NAME)\n",
    "\n",
    "Train(net)\n",
    "create_acc_loss_graph(MODEL_NAME)"
   ]
  },
  {
   "cell_type": "code",
   "execution_count": null,
   "metadata": {},
   "outputs": [],
   "source": [
    "device"
   ]
  },
  {
   "cell_type": "code",
   "execution_count": 57,
   "metadata": {},
   "outputs": [
    {
     "name": "stdout",
     "output_type": "stream",
     "text": [
      "\n",
      " 0.99 tensor(0.0058, device='cuda:0', grad_fn=<MseLossBackward>)\n"
     ]
    }
   ],
   "source": [
    "net.eval()\n",
    "test_dt = next(iter(test))\n",
    "X, y = test_dt[0].view(-1, 1,64, 64).to(device), test_dt[1].to(device)\n",
    "val_acc, val_loss = fwd_pass(X.view(-1, 1, 64,64), y, net)\n",
    "print(\"\\n\", val_acc, val_loss)"
   ]
  },
  {
   "cell_type": "code",
   "execution_count": 53,
   "metadata": {},
   "outputs": [],
   "source": [
    "with open(\"model.log\", \"a\") as f:\n",
    "    f.write(\n",
    "                        f\"\\n {MODEL_NAME} notes: \\n final acc: {val_acc}, \\n final loss: {val_loss}, \\n epochs: 100, \\n batch size: 75,\\n optimizer: Adam, \\n loss function: MSELoss,\\n model: model.pt, convNet with Dropout.,\\n device: cuda 9.2 \\n\"\n",
    "    )\n"
   ]
  },
  {
   "cell_type": "code",
   "execution_count": null,
   "metadata": {},
   "outputs": [],
   "source": [
    "1360/75"
   ]
  }
 ],
 "metadata": {
  "kernelspec": {
   "display_name": "Python 3.7.0 64-bit",
   "language": "python",
   "name": "python37064bit1c7e0d59a08a45f4af234373199ae9c0"
  },
  "language_info": {
   "codemirror_mode": {
    "name": "ipython",
    "version": 3
   },
   "file_extension": ".py",
   "mimetype": "text/x-python",
   "name": "python",
   "nbconvert_exporter": "python",
   "pygments_lexer": "ipython3",
   "version": "3.7.0b2"
  }
 },
 "nbformat": 4,
 "nbformat_minor": 4
}
